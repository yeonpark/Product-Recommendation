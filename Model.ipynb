{
  "nbformat": 4,
  "nbformat_minor": 0,
  "metadata": {
    "colab": {
      "name": "모델",
      "private_outputs": true,
      "provenance": [],
      "collapsed_sections": []
    },
    "kernelspec": {
      "name": "python3",
      "display_name": "Python 3"
    },
    "language_info": {
      "name": "python"
    }
  },
  "cells": [
    {
      "cell_type": "code",
      "execution_count": null,
      "metadata": {
        "id": "PeSM9SDkNoRc"
      },
      "outputs": [],
      "source": [
        "# Google Colab을 기준으로 작성\n",
        "from google.colab import drive\n",
        "drive.mount('/content/drive')"
      ]
    },
    {
      "cell_type": "code",
      "source": [
        "import pandas as pd\n",
        "import numpy as np\n",
        "\n",
        "# 세부적인 상품 및 구매자의 정보를 한번에 얻기 위해서 새로운 DataFrame 저장\n",
        "demo = pd.read_csv('/content/drive/MyDrive/롯데2022/LPOINT_BIG_COMP_01_DEMO.csv')\n",
        "pdde = pd.read_csv('/content/drive/MyDrive/롯데2022/LPOINT_BIG_COMP_02_PDDE.csv')\n",
        "pd_clac = pd.read_csv('/content/drive/MyDrive/롯데2022/LPOINT_BIG_COMP_04_PD_CLAC.csv')\n",
        "\n",
        "demo_pdde = pd.merge(pdde, demo, on='cust')\n",
        "purchase = pd.merge(demo_pdde, pd_clac, on='pd_c')"
      ],
      "metadata": {
        "id": "1EVQN3eCNp41"
      },
      "execution_count": null,
      "outputs": []
    },
    {
      "cell_type": "code",
      "source": [
        "purchase['month'] = pd.to_datetime(purchase['de_dt'].astype(str), format='%Y/%m/%d').dt.month\n",
        "\n",
        "import numpy as np\n",
        "conditions = [\n",
        "    (purchase['month'] == 1 )|(purchase['month'] == 2 )|(purchase['month'] == 12 ),\n",
        "    (purchase['month'] == 3)|(purchase['month'] == 4 )|(purchase['month'] == 5 ),\n",
        "    (purchase['month'] == 6 )|(purchase['month'] == 7 )|(purchase['month'] == 8 ),\n",
        "    (purchase['month'] == 9 )|(purchase['month'] == 10 )|(purchase['month'] == 11 ),\n",
        "    ]\n",
        "\n",
        "# create a list of the values we want to assign for each condition\n",
        "values = ['겨울', '봄', '여름', '가을']\n",
        "\n",
        "# create a new column and use np.select to assign values to it using our lists as arguments\n",
        "purchase['season'] = np.select(conditions, values)"
      ],
      "metadata": {
        "id": "wIDrMz1iNvN5"
      },
      "execution_count": null,
      "outputs": []
    },
    {
      "cell_type": "code",
      "source": [
        "now_month = pd.Timestamp.today()\n",
        "now_month = now_month.month\n",
        "\n",
        "now_season = ''\n",
        "if now_month in [1,2,12]:\n",
        "    now_season = '겨울'\n",
        "elif now_month in [3,4,5]:\n",
        "    now_season = '봄'\n",
        "elif now_month in [6,7,8]:\n",
        "    now_season = '여름'\n",
        "elif now_month in [9,10,11]:\n",
        "    now_season = '가을'\n",
        "\n",
        "# 제품에 대한 소/중/대분류 값을 한번에 보기 위해 'string'열 생성\n",
        "purchase['string'] = purchase['pd_nm'] + \" \" + purchase['clac_mcls_nm'] + \" \" + purchase['clac_hlv_nm'] + ' | '"
      ],
      "metadata": {
        "id": "LxQzfT96Nvv8"
      },
      "execution_count": null,
      "outputs": []
    },
    {
      "cell_type": "code",
      "source": [
        "#추천하고자 하는 고객의 고유 식별 번호 입력 ('cust')\n",
        "while True:\n",
        "    cust_input = input(\"고객번호: \")\n",
        "    channel_selector = input(\"Online/Offline: \")\n",
        "    \n",
        "    if (channel_selector == 'Offline') | (channel_selector == 'offline'):\n",
        "        channel_selector = 1\n",
        "    else:\n",
        "        channel_selector = 2\n",
        "    \n",
        "    check = purchase.loc[(purchase['cust'] == cust_input) & (purchase['chnl_dv'] == channel_selector)]\n",
        "    if len(check.index) > 0:\n",
        "        break\n",
        "    else:\n",
        "        print('No previous data for corresponding customer and channel')\n",
        "        print('Please re-enter a valid condition')    \n",
        "\n",
        "\n",
        "age = list(demo[demo.cust == cust_input].ages)\n",
        "sex = list(demo[demo.cust == cust_input].ma_fem_dv)\n"
      ],
      "metadata": {
        "id": "ta641XQHNzm8"
      },
      "execution_count": null,
      "outputs": []
    },
    {
      "cell_type": "code",
      "source": [
        "def channel_filter(purchase):\n",
        "    \n",
        "    # 입력된 고객(cust_input) 동일한 조건을 가진 고객만 필터\n",
        "    # 나이 필터링\n",
        "    age_filter = purchase[purchase.ages == age[0]] \n",
        "\n",
        "    # 나이 + 성별 필터링\n",
        "    age_sex_filter = age_filter[age_filter.ma_fem_dv == sex[0]] \n",
        "    \n",
        "    # 나이 + 성별 + 현재 계절 필터링\n",
        "    final_filter = age_sex_filter[age_sex_filter.season == now_season]\n",
        "    \n",
        "    return final_filter"
      ],
      "metadata": {
        "id": "1GWhlkCoN1DO"
      },
      "execution_count": null,
      "outputs": []
    },
    {
      "cell_type": "code",
      "source": [
        "# 구매 채널에 맞는 데이터 필터링\n",
        "if channel_selector == 2:\n",
        "    purchase_online = purchase[purchase.chnl_dv == 2].sort_values('pd_nm')\n",
        "    \n",
        "    final_filter = channel_filter(purchase_online)\n",
        "    \n",
        "elif channel_selector == 1:\n",
        "    purchase_offline = purchase[purchase.chnl_dv == 1].sort_values('pd_nm')\n",
        "\n",
        "    final_filter = channel_filter(purchase_offline)\n"
      ],
      "metadata": {
        "id": "7-oOWkoMN58M"
      },
      "execution_count": null,
      "outputs": []
    },
    {
      "cell_type": "code",
      "source": [
        "# 필터에 해당되는 고객들의 구매 품목 목록을 생성\n",
        "\n",
        "cust_list = []\n",
        "data = {}\n",
        "for i in list(final_filter.cust):\n",
        "    if i not in cust_list:\n",
        "        str_to_append = final_filter[final_filter.cust == i]['string'].sum()\n",
        "        data[i] = str_to_append\n",
        "        cust_list.append(i)\n",
        "    else:\n",
        "        continue\n",
        "\n",
        "purchase_filter = pd.DataFrame(data, index=[0])\n",
        "purchase_filter = purchase_filter.T.reset_index()\n",
        "purchase_filter = purchase_filter.rename(columns={'index':'cust',0:'string_combined'})"
      ],
      "metadata": {
        "id": "AXd4NpxzN8FW"
      },
      "execution_count": null,
      "outputs": []
    },
    {
      "cell_type": "code",
      "source": [
        "# 추천 고객이 현재 계절과 일치하는 구매기록이 없을때\n",
        "if check[check['season'] == now_season].empty:\n",
        "    cust_recommend = purchase[(purchase['cust'] == cust_input) & (purchase['chnl_dv'] == channel_selector)]['string'].sum()\n",
        "    purchase_filter.loc[len(purchase_filter.index)] = [cust_input, cust_recommend]"
      ],
      "metadata": {
        "id": "nBCn2Ymo1qRb"
      },
      "execution_count": null,
      "outputs": []
    },
    {
      "cell_type": "code",
      "source": [
        "from sklearn.feature_extraction.text import TfidfVectorizer\n",
        "from sklearn.metrics.pairwise import linear_kernel\n",
        "\n",
        "# 자연어 처리 위해 vectorizer 사용\n",
        "# ppt에 왜 countervectorizer 말고 tfidfvectorizer를 썼는지 서술이 필요할듯\n",
        "tfidf = TfidfVectorizer()\n",
        "tfidf_matrix = tfidf.fit_transform(purchase_filter['string_combined'])\n",
        "\n",
        "# tfidf_matrix.shape # 개수를 보여줄거야?? ppt에서는 예시를 보여줄때는 필요한 부분같음\n",
        "\n",
        "# Compute the cosine similarity matrix\n",
        "cosine_sim = linear_kernel(tfidf_matrix, tfidf_matrix)\n",
        "indices = pd.Series(purchase_filter.index, index=purchase_filter['cust']).drop_duplicates()"
      ],
      "metadata": {
        "id": "AfT9wfI4N-Qz"
      },
      "execution_count": null,
      "outputs": []
    },
    {
      "cell_type": "code",
      "source": [
        "def get_recommendations(title, cosine_sim=cosine_sim):\n",
        "\n",
        "    # Get the index of the customer that matches the title\n",
        "    idx = indices[title]\n",
        "    \n",
        "    # Get the pairwise similarity scores of all customers' order with that specific customer's order\n",
        "    sim_scores = list(enumerate(cosine_sim[idx]))\n",
        "    sim_scores = sorted(sim_scores, key=lambda x: x[1], reverse=True)\n",
        "    \n",
        "    # We set minimum sample size to obtain a meaningfull result as 30\n",
        "    return sim_scores[:30]"
      ],
      "metadata": {
        "id": "F6-db1BbOBNl"
      },
      "execution_count": null,
      "outputs": []
    },
    {
      "cell_type": "code",
      "source": [
        "from collections import Counter\n",
        "\n",
        "# Getting the index of input customer\n",
        "idx = purchase_filter[purchase_filter.cust == cust_input].index\n",
        "\n",
        "# Using numpy to get unique items that are previously bought by the input customer\n",
        "lst_contain = purchase_filter.loc[idx[0], 'string_combined'].split('|')\n",
        "lst_contain = np.array(lst_contain)\n",
        "lst_contain = list(np.unique(lst_contain))\n",
        "lst_contain = [i.strip() for i in lst_contain]\n",
        "\n",
        "# Extracting customers that matches the conditions of the input customer\n",
        "similar_user_list = list(get_recommendations(cust_input))\n",
        "\n",
        "count = {}\n",
        "similar_user_list\n",
        "for i in similar_user_list:\n",
        "    if i == cust_input:\n",
        "        continue\n",
        "    else:\n",
        "        lst_compare = purchase_filter.loc[i[0], 'string_combined'].split('|')\n",
        "        lst_compare = [k.strip() for k in lst_compare]\n",
        "        for j in lst_compare:\n",
        "            if j not in lst_contain:\n",
        "                # using weighted score to calculate how frequent each item each choosen by similar customers\n",
        "                try: count[j] += 1*i[1]\n",
        "                except: count[j] = 1*i[1]\n",
        "\n",
        "# pick top 5 scored items to recommend\n",
        "c = Counter(count)\n",
        "c = c.most_common(5)\n",
        "\n",
        "# 결과 출력\n",
        "print(\"--- 추천 리스트 ---\")\n",
        "for i,j in enumerate(c):\n",
        "    print(str(i+1)+\"번:\"+j[0])"
      ],
      "metadata": {
        "id": "VVff-5X8OMHm"
      },
      "execution_count": null,
      "outputs": []
    }
  ]
}